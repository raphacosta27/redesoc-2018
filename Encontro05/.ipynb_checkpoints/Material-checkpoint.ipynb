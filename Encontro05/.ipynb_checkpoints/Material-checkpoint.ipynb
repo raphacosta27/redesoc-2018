{
 "cells": [
  {
   "cell_type": "markdown",
   "metadata": {
    "deletable": false,
    "editable": false
   },
   "source": [
    "<div style=\"background-color: #fff1cd; background-image: url('../socnet.svg'); background-position: 1em 1em; background-repeat: no-repeat; background-size: 3em 3em; box-shadow: 0 0 0.25em 0; color: #403c33; font-weight: bold; min-height: 3em; padding: 1em 1em 1em 5em;\">Como o nome sugere, você deve usar este notebook como um *caderno de anotações*. Use as células editáveis para tomar notas, principalmente quando os professores estiverem complementando o conteúdo com exposições orais ou exposições na lousa. Crie um *fork* pessoal do repositório, faça *commits* dessas notas e puxe do *upstream* sempre que o repositório for atualizado. Se alguma atualização modificar um notebook existente, essa modificação não envolverá as células editáveis, portanto não causará conflito.</div>"
   ]
  },
  {
   "cell_type": "markdown",
   "metadata": {
    "deletable": false,
    "editable": false
   },
   "source": [
    "# Redes Sociais: Material do Encontro 5\n",
    "\n",
    "Imagine que a Rádio Cultura FM estabeleceu uma parceria com o Spotify para promover a música clássica. Essa promoção funciona assim: dentre os *Artistas Relacionados* ao artista que um usuário está escutando, o Spotify pode escolher algum para exibir um ícone de barrinhas de ouro, indicando que esse usuário vai acumular bônus se clicar nesse artista. Esse bônus pode ser convertido em cŕeditos para mensalidade, dentre outros possíveis prêmios.\n",
    "\n",
    "O problema dessa ideia é que seu custo vai além de simplesmente pagar esses prêmios. O acordo original do Spotify com os distribuidores de música, detentores dos direitos de reprodução de qualquer material fonográfico, não permite que qualquer artista seja privilegiado pelo Spotify através de outra promoção que não seja a sugestão de *Artistas Relacionados* já existente. Após uma longa negociação, ficou acordado que a parceria deverá efetuar um pagamento adicional aos distribuidores de música cada vez que um usuário clicar em um artista com o ícone de barrinhas de ouro. Esse pagamento adicional é proporcional à popularidade do artista.\n",
    "\n",
    "Os representantes da Rádio Cultura FM estão um pouco preocupados com esse custo inesperado, pois originalmente planejavam usar apenas um critério subjetivo de \"mais parecido com música clássica\" para escolher os artistas que terão barrinhas. Agora estão pensando em fazer \"algo mais inteligente\", mas não sabem direito o que isso significa. Portanto, resolveram contratar vocês como Cientistas de Dados para descobrir!\n",
    "\n",
    "A partir daqui é com vocês! Não contem muito com os clientes, pois eles não conhecem muito sobre análise de dados e não saberiam construir hipóteses para orientar as análises. Lembrem apenas que, apesar do contexto não ser acadêmico, os passos do método científico se aplicam.\n",
    "\n",
    "0. Qual é a pergunta de pesquisa?\n",
    "1. Qual é o contexto? Como esse contexto pode ser traduzido para mecanismos?\n",
    "2. Quais são os mecanismos? Como esses mecanismos podem ser traduzidos para hipóteses?\n",
    "3. Quais são as hipóteses? Como essas hipóteses podem ser testadas?\n",
    "4. O que dizem os resultados dos testes? Como esses resultados podem ser interpretados frente às hipóteses?\n",
    "5. Como as interpretações se relacionam com o contexto original? É possível generalizar as descobertas? O que mais poderia ser agregado às análises em pesquisas futuras?\n",
    "\n",
    "Lembre-se:\n",
    "\n",
    "* no material do *Encontro 1*, vimos esses passos;\n",
    "* no material dos *Encontros 2 e 3*, vimos ferramentas de análise estatística;\n",
    "* no material do *Encontro 4*, vimos ferramentas de manipulação de grafos;\n",
    "* a tarefa do fim de semana deu a vocês um grafo dirigido cujos nós são artistas, cada um com um atributo string `label` e um atributo inteiro `popularity`, e no qual uma aresta $(a, b)$ indica que $a$ indica $b$ como relacionado.\n",
    "\n",
    "É hora de juntar todos esses ingredientes!"
   ]
  },
  {
   "cell_type": "code",
   "execution_count": 6,
   "metadata": {
    "deletable": false
   },
   "outputs": [
    {
     "data": {
      "text/plain": [
       "'/Users/raphacosta/Desktop/Insper6/RedesSociais/myRepo/redesoc-2018/Encontro05'"
      ]
     },
     "execution_count": 6,
     "metadata": {},
     "output_type": "execute_result"
    }
   ],
   "source": [
    "# Use o notebook à vontade, inclusive criando outras células!\n",
    "import sys\n",
    "import os\n",
    "os.getcwd()\n",
    "\n",
    "\n",
    "import socnet as sn"
   ]
  },
  {
   "cell_type": "code",
   "execution_count": 4,
   "metadata": {},
   "outputs": [
    {
     "ename": "KeyError",
     "evalue": "'x'",
     "output_type": "error",
     "traceback": [
      "\u001b[0;31m---------------------------------------------------------------------------\u001b[0m",
      "\u001b[0;31mKeyError\u001b[0m                                  Traceback (most recent call last)",
      "\u001b[0;32m<ipython-input-4-7eb3b6c54589>\u001b[0m in \u001b[0;36m<module>\u001b[0;34m()\u001b[0m\n\u001b[0;32m----> 1\u001b[0;31m \u001b[0mfile\u001b[0m \u001b[0;34m=\u001b[0m \u001b[0msn\u001b[0m\u001b[0;34m.\u001b[0m\u001b[0mload_graph\u001b[0m\u001b[0;34m(\u001b[0m\u001b[0;34m'spotify.gml'\u001b[0m\u001b[0;34m,\u001b[0m \u001b[0mhas_pos\u001b[0m\u001b[0;34m=\u001b[0m\u001b[0;32mTrue\u001b[0m\u001b[0;34m)\u001b[0m\u001b[0;34m\u001b[0m\u001b[0m\n\u001b[0m",
      "\u001b[0;32m~/Desktop/Insper6/RedesSociais/myRepo/redesoc-2018/socnet.py\u001b[0m in \u001b[0;36mload_graph\u001b[0;34m(path, has_pos)\u001b[0m\n\u001b[1;32m    249\u001b[0m     \u001b[0;32mif\u001b[0m \u001b[0mhas_pos\u001b[0m\u001b[0;34m:\u001b[0m\u001b[0;34m\u001b[0m\u001b[0m\n\u001b[1;32m    250\u001b[0m         \u001b[0;32mfor\u001b[0m \u001b[0mn\u001b[0m \u001b[0;32min\u001b[0m \u001b[0mg\u001b[0m\u001b[0;34m.\u001b[0m\u001b[0mnodes\u001b[0m\u001b[0;34m:\u001b[0m\u001b[0;34m\u001b[0m\u001b[0m\n\u001b[0;32m--> 251\u001b[0;31m             \u001b[0mg\u001b[0m\u001b[0;34m.\u001b[0m\u001b[0mnodes\u001b[0m\u001b[0;34m[\u001b[0m\u001b[0mn\u001b[0m\u001b[0;34m]\u001b[0m\u001b[0;34m[\u001b[0m\u001b[0;34m'pos'\u001b[0m\u001b[0;34m]\u001b[0m \u001b[0;34m=\u001b[0m \u001b[0;34m(\u001b[0m\u001b[0mg\u001b[0m\u001b[0;34m.\u001b[0m\u001b[0mnodes\u001b[0m\u001b[0;34m[\u001b[0m\u001b[0mn\u001b[0m\u001b[0;34m]\u001b[0m\u001b[0;34m[\u001b[0m\u001b[0;34m'x'\u001b[0m\u001b[0;34m]\u001b[0m\u001b[0;34m,\u001b[0m \u001b[0mg\u001b[0m\u001b[0;34m.\u001b[0m\u001b[0mnodes\u001b[0m\u001b[0;34m[\u001b[0m\u001b[0mn\u001b[0m\u001b[0;34m]\u001b[0m\u001b[0;34m[\u001b[0m\u001b[0;34m'y'\u001b[0m\u001b[0;34m]\u001b[0m\u001b[0;34m)\u001b[0m\u001b[0;34m\u001b[0m\u001b[0m\n\u001b[0m\u001b[1;32m    252\u001b[0m             \u001b[0;32mdel\u001b[0m \u001b[0mg\u001b[0m\u001b[0;34m.\u001b[0m\u001b[0mnodes\u001b[0m\u001b[0;34m[\u001b[0m\u001b[0mn\u001b[0m\u001b[0;34m]\u001b[0m\u001b[0;34m[\u001b[0m\u001b[0;34m'x'\u001b[0m\u001b[0;34m]\u001b[0m\u001b[0;34m\u001b[0m\u001b[0m\n\u001b[1;32m    253\u001b[0m             \u001b[0;32mdel\u001b[0m \u001b[0mg\u001b[0m\u001b[0;34m.\u001b[0m\u001b[0mnodes\u001b[0m\u001b[0;34m[\u001b[0m\u001b[0mn\u001b[0m\u001b[0;34m]\u001b[0m\u001b[0;34m[\u001b[0m\u001b[0;34m'y'\u001b[0m\u001b[0;34m]\u001b[0m\u001b[0;34m\u001b[0m\u001b[0m\n",
      "\u001b[0;31mKeyError\u001b[0m: 'x'"
     ]
    }
   ],
   "source": [
    "file = sn.load_graph('spotify.gml', has_pos=True)"
   ]
  },
  {
   "cell_type": "code",
   "execution_count": null,
   "metadata": {},
   "outputs": [],
   "source": []
  },
  {
   "cell_type": "code",
   "execution_count": null,
   "metadata": {},
   "outputs": [],
   "source": []
  },
  {
   "cell_type": "code",
   "execution_count": null,
   "metadata": {},
   "outputs": [],
   "source": []
  },
  {
   "cell_type": "code",
   "execution_count": null,
   "metadata": {},
   "outputs": [],
   "source": []
  },
  {
   "cell_type": "code",
   "execution_count": null,
   "metadata": {},
   "outputs": [],
   "source": []
  },
  {
   "cell_type": "markdown",
   "metadata": {
    "deletable": false,
    "editable": false
   },
   "source": [
    "## Observações"
   ]
  },
  {
   "cell_type": "raw",
   "metadata": {
    "deletable": false
   },
   "source": []
  }
 ],
 "metadata": {
  "kernelspec": {
   "display_name": "Python 3",
   "language": "python",
   "name": "python3"
  },
  "language_info": {
   "codemirror_mode": {
    "name": "ipython",
    "version": 3
   },
   "file_extension": ".py",
   "mimetype": "text/x-python",
   "name": "python",
   "nbconvert_exporter": "python",
   "pygments_lexer": "ipython3",
   "version": "3.7.0"
  }
 },
 "nbformat": 4,
 "nbformat_minor": 1
}
